{
 "cells": [
  {
   "cell_type": "markdown",
   "id": "18727d0c-d078-43aa-9192-667924a0ea34",
   "metadata": {
    "tags": []
   },
   "source": [
    "# Case Study"
   ]
  },
  {
   "cell_type": "markdown",
   "id": "58cbcfad-f17a-4a44-9767-b897f1934f04",
   "metadata": {
    "jp-MarkdownHeadingCollapsed": true,
    "tags": []
   },
   "source": [
    "## Descrição & Objetivos"
   ]
  },
  {
   "cell_type": "markdown",
   "id": "b01199bc-c1b8-4f57-8e2d-fab625e5c269",
   "metadata": {},
   "source": [
    "\n",
    "Este caso requer o desenvolvimento de uma segmentação de clientes para definir a estratégia de marketing. O\n",
    "O conjunto de dados de amostra resume o comportamento de uso de cerca de 9.000 titulares de cartão de crédito ativos durante os últimos 6 meses. O arquivo está no nível do cliente com 18 variáveis ​​comportamentais.\n",
    "\n",
    "Para cada segmento, eu devo sugerir de duas a três alavancas de resultados"
   ]
  },
  {
   "cell_type": "markdown",
   "id": "7eeef26f-7df7-456f-bd51-c819c9cdc88b",
   "metadata": {
    "tags": []
   },
   "source": [
    "## Variaveis"
   ]
  },
  {
   "cell_type": "markdown",
   "id": "cf129216-1f98-4182-a9f7-453fd9162215",
   "metadata": {},
   "source": [
    "- cust_id = identificador do cliente\n",
    "- balance = valor na conta para realizar compras\n",
    "- balance_frenquecy = mostra a frequencia que o valor na conta é atualizado para fazer compras, esse valor varia de 0 a 1, sendo 1 muito frequente e 0 pouco frequente\n",
    "- purchase = quantidade de compras feitas\n",
    "- oneoff_purchase = o valor máximo feito em uma compra\n",
    "- installments_purchases = valor das compras parceladas\n",
    "- cash_advance = valor de saque de dinheiro utilizando o cartão de crédito\n",
    "- purchase_frequency = mostra a frequencia que as compras são feitas, esse valor varia de 0 a 1, sendo 1 muito frequente e 0 pouco frequente\n",
    "- oneoffpurchasefrequency= Com que frequência as compras acontecem de uma só vez (1 = comprado com frequência, 0 = não comprado com frequência)\n",
    "- purchasesinstallmentsfrequency = Com que frequência as compras parceladas estão sendo feitas (1 = frequentemente feito, 0 = não feito com frequência)\n",
    "- CASHADVANCEFREQUENCY = Com que frequência o dinheiro adiantado está sendo pago\n",
    "- CASHADVANCETRX = Número de transações feitas com \"Cash in Advanced\"\n",
    "- PURCHASES_TRX = Número de transações de compra feitas\n",
    "- CREDIT_LIMIT = Limite de cartão de crédito para usuário\n",
    "- PAGAMENTOS = Valor do pagamento feito pelo usuário\n",
    "- MINIMUM_PAYMENTS = valor mínimo de pagamentos feitos pelo usuário\n",
    "- PRCFULLPAYMENT = Porcentagem do pagamento integral pago pelo usuário\n",
    "- ternure = Posse do serviço de cartão de crédito para o usuário\n"
   ]
  },
  {
   "cell_type": "markdown",
   "id": "3796988c-57ca-4d15-9897-ac872e44fe2e",
   "metadata": {
    "jp-MarkdownHeadingCollapsed": true,
    "tags": []
   },
   "source": [
    "## Plano de Ação"
   ]
  },
  {
   "cell_type": "markdown",
   "id": "cb95b8d9-b55d-4486-b983-a465b78b7de7",
   "metadata": {},
   "source": [
    "**Sprint #0**\n",
    "- Fazer o planejamento da solução **(ok)**\n",
    "- Fazer o notebook end to end **(ok)**\n",
    "\n",
    "**Sprint #1**\n",
    "- Fazer a passo 01 - Data Description **(ok)**\n",
    "    - Tratar os NAs das colunas: **minimum_payments** e **credit_limits**\n",
    "- Fazer o passo 02 - Filtragem de Linhas e Colunas\n",
    "- Fazer o passo 03 - Feature Engeneering\n",
    "- Fazer o passo 04 - EDA (estudo de espaço)\n",
    "\n",
    "**Sprint #2**\n",
    "- Fazer a passo 05 - Data Preparation\n",
    "- Fazer o passo 06 - Feature Selection\n",
    "- Fazer o passo 07 - Hyperparameter Fine Tunning\n",
    "- Fazer o passo 08 - Model Training\n",
    "\n",
    "**Sprint #3**\n",
    "- Fazer a passo 09 - Cluster Analysis\n",
    "- Fazer o passo 10 - Model Production\n",
    "- Fazer o dashboard"
   ]
  },
  {
   "cell_type": "markdown",
   "id": "6ee26e00-9f73-413f-a11b-15fabf441453",
   "metadata": {
    "tags": []
   },
   "source": [
    "# 0.0 Imports"
   ]
  },
  {
   "cell_type": "code",
   "execution_count": 1,
   "id": "d1583d11-8da8-4abe-98e7-7cdb71af4533",
   "metadata": {},
   "outputs": [
    {
     "name": "stderr",
     "output_type": "stream",
     "text": [
      "C:\\Users\\Lucas\\resp\\marketing_banco\\marketing_banco\\lib\\site-packages\\tqdm\\auto.py:22: TqdmWarning: IProgress not found. Please update jupyter and ipywidgets. See https://ipywidgets.readthedocs.io/en/stable/user_install.html\n",
      "  from .autonotebook import tqdm as notebook_tqdm\n",
      "C:\\Users\\Lucas\\AppData\\Local\\Temp\\ipykernel_25432\\3613674024.py:11: DeprecationWarning: `import pandas_profiling` is going to be deprecated by April 1st. Please use `import ydata_profiling` instead.\n",
      "  from pandas_profiling import ProfileReport\n"
     ]
    }
   ],
   "source": [
    "import inflection\n",
    "\n",
    "import pandas as pd\n",
    "import numpy  as np\n",
    "\n",
    "import matplotlib.pyplot as plt\n",
    "\n",
    "from sklearn.cluster import KMeans\n",
    "from sklearn import metrics\n",
    "\n",
    "from pandas_profiling import ProfileReport"
   ]
  },
  {
   "cell_type": "markdown",
   "id": "79ea0851-caeb-4527-83b8-b5f418e21547",
   "metadata": {},
   "source": [
    "## 0.1 Helper Functions"
   ]
  },
  {
   "cell_type": "code",
   "execution_count": null,
   "id": "fbf96406-16be-498f-9f4d-d9210f2c31fe",
   "metadata": {},
   "outputs": [],
   "source": []
  },
  {
   "cell_type": "markdown",
   "id": "89b2bef3-83c6-41f7-a714-1a981189d561",
   "metadata": {},
   "source": [
    "## 0.2 Loading dataset"
   ]
  },
  {
   "cell_type": "code",
   "execution_count": 2,
   "id": "dcf9cbe9-dfaa-4524-9dba-3bcc52e21822",
   "metadata": {
    "tags": []
   },
   "outputs": [],
   "source": [
    "df_raw = pd.read_csv('../dados/data.csv')"
   ]
  },
  {
   "cell_type": "markdown",
   "id": "e91130d9-abeb-405e-a285-f5c73e2f5893",
   "metadata": {
    "tags": []
   },
   "source": [
    "# 1.0 Descrição dos Dados"
   ]
  },
  {
   "cell_type": "code",
   "execution_count": 3,
   "id": "3910f7e0-31d6-4297-b968-9f136d47d161",
   "metadata": {
    "tags": []
   },
   "outputs": [],
   "source": [
    "df1 = df_raw.copy()"
   ]
  },
  {
   "cell_type": "markdown",
   "id": "a903af50-a68c-4040-8342-f366e2062c42",
   "metadata": {
    "tags": []
   },
   "source": [
    "## 1.1 Rename Columns"
   ]
  },
  {
   "cell_type": "code",
   "execution_count": 4,
   "id": "9a1b98d0-c5fe-4f94-91ee-f0725127eed0",
   "metadata": {
    "tags": []
   },
   "outputs": [],
   "source": [
    "df1.columns = [inflection.underscore(col) for col in df1.columns]"
   ]
  },
  {
   "cell_type": "markdown",
   "id": "df489b36-d758-4ba6-b349-7575c6ed25bb",
   "metadata": {},
   "source": [
    "## 1.2 Data Dimensions"
   ]
  },
  {
   "cell_type": "code",
   "execution_count": 5,
   "id": "5b3e9e09-8cb2-4f56-87e8-a8760e91ba5c",
   "metadata": {
    "tags": []
   },
   "outputs": [
    {
     "name": "stdout",
     "output_type": "stream",
     "text": [
      "Number of Rows: 8950\n",
      "Number of Cols: 18\n"
     ]
    }
   ],
   "source": [
    "print('Number of Rows: {}'.format(df1.shape[0]))\n",
    "print('Number of Cols: {}'.format(df1.shape[1]))"
   ]
  },
  {
   "cell_type": "markdown",
   "id": "d4a9f6d5-1417-491b-99eb-ef0ea3c6c533",
   "metadata": {},
   "source": [
    "## 1.3 Check DTypes"
   ]
  },
  {
   "cell_type": "code",
   "execution_count": 6,
   "id": "60ae2b23-d367-4836-bff6-67ec4034c806",
   "metadata": {
    "tags": []
   },
   "outputs": [
    {
     "data": {
      "text/plain": [
       "cust_id                              object\n",
       "balance                             float64\n",
       "balance_frequency                   float64\n",
       "purchases                           float64\n",
       "oneoff_purchases                    float64\n",
       "installments_purchases              float64\n",
       "cash_advance                        float64\n",
       "purchases_frequency                 float64\n",
       "oneoff_purchases_frequency          float64\n",
       "purchases_installments_frequency    float64\n",
       "cash_advance_frequency              float64\n",
       "cash_advance_trx                      int64\n",
       "purchases_trx                         int64\n",
       "credit_limit                        float64\n",
       "payments                            float64\n",
       "minimum_payments                    float64\n",
       "prc_full_payment                    float64\n",
       "tenure                                int64\n",
       "dtype: object"
      ]
     },
     "execution_count": 6,
     "metadata": {},
     "output_type": "execute_result"
    }
   ],
   "source": [
    "df1.dtypes"
   ]
  },
  {
   "cell_type": "markdown",
   "id": "37b24efb-c1b4-49e3-95b3-a9d4791fe32a",
   "metadata": {},
   "source": [
    "## 1.4 Check NAs"
   ]
  },
  {
   "cell_type": "code",
   "execution_count": 7,
   "id": "e8be3d81-36a6-45fd-8a92-46cb72f3defc",
   "metadata": {
    "tags": []
   },
   "outputs": [
    {
     "data": {
      "text/plain": [
       "cust_id                               0\n",
       "balance                               0\n",
       "balance_frequency                     0\n",
       "purchases                             0\n",
       "oneoff_purchases                      0\n",
       "installments_purchases                0\n",
       "cash_advance                          0\n",
       "purchases_frequency                   0\n",
       "oneoff_purchases_frequency            0\n",
       "purchases_installments_frequency      0\n",
       "cash_advance_frequency                0\n",
       "cash_advance_trx                      0\n",
       "purchases_trx                         0\n",
       "credit_limit                          1\n",
       "payments                              0\n",
       "minimum_payments                    313\n",
       "prc_full_payment                      0\n",
       "tenure                                0\n",
       "dtype: int64"
      ]
     },
     "execution_count": 7,
     "metadata": {},
     "output_type": "execute_result"
    }
   ],
   "source": [
    "df1.isna().sum()"
   ]
  },
  {
   "cell_type": "markdown",
   "id": "3be8441e-9d0a-4bfb-b803-2c244ab1d421",
   "metadata": {},
   "source": [
    "## 1.5 Fillout NAs"
   ]
  },
  {
   "cell_type": "code",
   "execution_count": 8,
   "id": "8e789006-3a8b-484d-a7ca-dddba2a02f2d",
   "metadata": {
    "tags": []
   },
   "outputs": [],
   "source": [
    "# minimum_payments\n",
    "df1.loc[df1['minimum_payments'].isna(), 'minimum_payments'] = 0.0\n",
    "\n",
    "#credit_limit\n",
    "df1.loc[df1['credit_limit'].isna(), 'credit_limit'] = 0.0"
   ]
  },
  {
   "cell_type": "code",
   "execution_count": 9,
   "id": "8be1da12-22d0-41e9-a33c-7ed63f7761f0",
   "metadata": {
    "tags": []
   },
   "outputs": [
    {
     "data": {
      "text/plain": [
       "cust_id                             0\n",
       "balance                             0\n",
       "balance_frequency                   0\n",
       "purchases                           0\n",
       "oneoff_purchases                    0\n",
       "installments_purchases              0\n",
       "cash_advance                        0\n",
       "purchases_frequency                 0\n",
       "oneoff_purchases_frequency          0\n",
       "purchases_installments_frequency    0\n",
       "cash_advance_frequency              0\n",
       "cash_advance_trx                    0\n",
       "purchases_trx                       0\n",
       "credit_limit                        0\n",
       "payments                            0\n",
       "minimum_payments                    0\n",
       "prc_full_payment                    0\n",
       "tenure                              0\n",
       "dtype: int64"
      ]
     },
     "execution_count": 9,
     "metadata": {},
     "output_type": "execute_result"
    }
   ],
   "source": [
    "df1.isna().sum()"
   ]
  },
  {
   "cell_type": "markdown",
   "id": "2bc02f88-6f88-476f-a8b4-e2e735d6fade",
   "metadata": {
    "tags": []
   },
   "source": [
    "## 1.6 Change DTypes"
   ]
  },
  {
   "cell_type": "code",
   "execution_count": null,
   "id": "eaee1505-c204-45ef-9a87-ac035ea67969",
   "metadata": {},
   "outputs": [],
   "source": []
  },
  {
   "cell_type": "markdown",
   "id": "25aca186-3ce9-491b-a585-bcd50a8ac0ca",
   "metadata": {},
   "source": [
    "## 1.7 Descriptive Statistical"
   ]
  },
  {
   "cell_type": "code",
   "execution_count": 10,
   "id": "44ba715c-a8e7-4a74-8547-6f7d5c90c737",
   "metadata": {},
   "outputs": [],
   "source": [
    "num_attributes = df1.select_dtypes(include=['int64', 'float64'])"
   ]
  },
  {
   "cell_type": "markdown",
   "id": "6acb08c9-15cc-4b6f-89b0-d4e1cc385f81",
   "metadata": {},
   "source": [
    "### 1.7.1 Numerical Statistical"
   ]
  },
  {
   "cell_type": "code",
   "execution_count": 11,
   "id": "f26bb0b8-c7bd-444a-99ea-03feec8b981b",
   "metadata": {
    "tags": []
   },
   "outputs": [
    {
     "data": {
      "text/html": [
       "<div>\n",
       "<style scoped>\n",
       "    .dataframe tbody tr th:only-of-type {\n",
       "        vertical-align: middle;\n",
       "    }\n",
       "\n",
       "    .dataframe tbody tr th {\n",
       "        vertical-align: top;\n",
       "    }\n",
       "\n",
       "    .dataframe thead th {\n",
       "        text-align: right;\n",
       "    }\n",
       "</style>\n",
       "<table border=\"1\" class=\"dataframe\">\n",
       "  <thead>\n",
       "    <tr style=\"text-align: right;\">\n",
       "      <th></th>\n",
       "      <th>min</th>\n",
       "      <th>max</th>\n",
       "      <th>range</th>\n",
       "      <th>mean</th>\n",
       "      <th>median</th>\n",
       "      <th>std</th>\n",
       "      <th>skew</th>\n",
       "      <th>kurtosis</th>\n",
       "    </tr>\n",
       "  </thead>\n",
       "  <tbody>\n",
       "    <tr>\n",
       "      <th>balance</th>\n",
       "      <td>0.0</td>\n",
       "      <td>19043.13856</td>\n",
       "      <td>19043.13856</td>\n",
       "      <td>1564.474828</td>\n",
       "      <td>873.385231</td>\n",
       "      <td>2081.531879</td>\n",
       "      <td>2.393386</td>\n",
       "      <td>7.674751</td>\n",
       "    </tr>\n",
       "    <tr>\n",
       "      <th>balance_frequency</th>\n",
       "      <td>0.0</td>\n",
       "      <td>1.00000</td>\n",
       "      <td>1.00000</td>\n",
       "      <td>0.877271</td>\n",
       "      <td>1.000000</td>\n",
       "      <td>0.236904</td>\n",
       "      <td>-2.023266</td>\n",
       "      <td>3.092370</td>\n",
       "    </tr>\n",
       "    <tr>\n",
       "      <th>purchases</th>\n",
       "      <td>0.0</td>\n",
       "      <td>49039.57000</td>\n",
       "      <td>49039.57000</td>\n",
       "      <td>1003.204834</td>\n",
       "      <td>361.280000</td>\n",
       "      <td>2136.634782</td>\n",
       "      <td>8.144269</td>\n",
       "      <td>111.388771</td>\n",
       "    </tr>\n",
       "    <tr>\n",
       "      <th>oneoff_purchases</th>\n",
       "      <td>0.0</td>\n",
       "      <td>40761.25000</td>\n",
       "      <td>40761.25000</td>\n",
       "      <td>592.437371</td>\n",
       "      <td>38.000000</td>\n",
       "      <td>1659.887917</td>\n",
       "      <td>10.045083</td>\n",
       "      <td>164.187572</td>\n",
       "    </tr>\n",
       "    <tr>\n",
       "      <th>installments_purchases</th>\n",
       "      <td>0.0</td>\n",
       "      <td>22500.00000</td>\n",
       "      <td>22500.00000</td>\n",
       "      <td>411.067645</td>\n",
       "      <td>89.000000</td>\n",
       "      <td>904.338115</td>\n",
       "      <td>7.299120</td>\n",
       "      <td>96.575178</td>\n",
       "    </tr>\n",
       "    <tr>\n",
       "      <th>cash_advance</th>\n",
       "      <td>0.0</td>\n",
       "      <td>47137.21176</td>\n",
       "      <td>47137.21176</td>\n",
       "      <td>978.871112</td>\n",
       "      <td>0.000000</td>\n",
       "      <td>2097.163877</td>\n",
       "      <td>5.166609</td>\n",
       "      <td>52.899434</td>\n",
       "    </tr>\n",
       "    <tr>\n",
       "      <th>purchases_frequency</th>\n",
       "      <td>0.0</td>\n",
       "      <td>1.00000</td>\n",
       "      <td>1.00000</td>\n",
       "      <td>0.490351</td>\n",
       "      <td>0.500000</td>\n",
       "      <td>0.401371</td>\n",
       "      <td>0.060164</td>\n",
       "      <td>-1.638631</td>\n",
       "    </tr>\n",
       "    <tr>\n",
       "      <th>oneoff_purchases_frequency</th>\n",
       "      <td>0.0</td>\n",
       "      <td>1.00000</td>\n",
       "      <td>1.00000</td>\n",
       "      <td>0.202458</td>\n",
       "      <td>0.083333</td>\n",
       "      <td>0.298336</td>\n",
       "      <td>1.535613</td>\n",
       "      <td>1.161846</td>\n",
       "    </tr>\n",
       "    <tr>\n",
       "      <th>purchases_installments_frequency</th>\n",
       "      <td>0.0</td>\n",
       "      <td>1.00000</td>\n",
       "      <td>1.00000</td>\n",
       "      <td>0.364437</td>\n",
       "      <td>0.166667</td>\n",
       "      <td>0.397448</td>\n",
       "      <td>0.509201</td>\n",
       "      <td>-1.398632</td>\n",
       "    </tr>\n",
       "    <tr>\n",
       "      <th>cash_advance_frequency</th>\n",
       "      <td>0.0</td>\n",
       "      <td>1.50000</td>\n",
       "      <td>1.50000</td>\n",
       "      <td>0.135144</td>\n",
       "      <td>0.000000</td>\n",
       "      <td>0.200121</td>\n",
       "      <td>1.828686</td>\n",
       "      <td>3.334734</td>\n",
       "    </tr>\n",
       "    <tr>\n",
       "      <th>cash_advance_trx</th>\n",
       "      <td>0.0</td>\n",
       "      <td>123.00000</td>\n",
       "      <td>123.00000</td>\n",
       "      <td>3.248827</td>\n",
       "      <td>0.000000</td>\n",
       "      <td>6.824647</td>\n",
       "      <td>5.721298</td>\n",
       "      <td>61.646862</td>\n",
       "    </tr>\n",
       "    <tr>\n",
       "      <th>purchases_trx</th>\n",
       "      <td>0.0</td>\n",
       "      <td>358.00000</td>\n",
       "      <td>358.00000</td>\n",
       "      <td>14.709832</td>\n",
       "      <td>7.000000</td>\n",
       "      <td>24.857649</td>\n",
       "      <td>4.630655</td>\n",
       "      <td>34.793100</td>\n",
       "    </tr>\n",
       "    <tr>\n",
       "      <th>credit_limit</th>\n",
       "      <td>0.0</td>\n",
       "      <td>30000.00000</td>\n",
       "      <td>30000.00000</td>\n",
       "      <td>4493.947277</td>\n",
       "      <td>3000.000000</td>\n",
       "      <td>3638.922543</td>\n",
       "      <td>1.522363</td>\n",
       "      <td>2.836419</td>\n",
       "    </tr>\n",
       "    <tr>\n",
       "      <th>payments</th>\n",
       "      <td>0.0</td>\n",
       "      <td>50721.48336</td>\n",
       "      <td>50721.48336</td>\n",
       "      <td>1733.143852</td>\n",
       "      <td>856.901546</td>\n",
       "      <td>2895.063757</td>\n",
       "      <td>5.907620</td>\n",
       "      <td>54.770736</td>\n",
       "    </tr>\n",
       "    <tr>\n",
       "      <th>minimum_payments</th>\n",
       "      <td>0.0</td>\n",
       "      <td>76406.20752</td>\n",
       "      <td>76406.20752</td>\n",
       "      <td>833.983453</td>\n",
       "      <td>289.628402</td>\n",
       "      <td>2335.989918</td>\n",
       "      <td>13.808430</td>\n",
       "      <td>292.357730</td>\n",
       "    </tr>\n",
       "    <tr>\n",
       "      <th>prc_full_payment</th>\n",
       "      <td>0.0</td>\n",
       "      <td>1.00000</td>\n",
       "      <td>1.00000</td>\n",
       "      <td>0.153715</td>\n",
       "      <td>0.000000</td>\n",
       "      <td>0.292499</td>\n",
       "      <td>1.942820</td>\n",
       "      <td>2.432395</td>\n",
       "    </tr>\n",
       "    <tr>\n",
       "      <th>tenure</th>\n",
       "      <td>6.0</td>\n",
       "      <td>12.00000</td>\n",
       "      <td>6.00000</td>\n",
       "      <td>11.517318</td>\n",
       "      <td>12.000000</td>\n",
       "      <td>1.338331</td>\n",
       "      <td>-2.943017</td>\n",
       "      <td>7.694823</td>\n",
       "    </tr>\n",
       "  </tbody>\n",
       "</table>\n",
       "</div>"
      ],
      "text/plain": [
       "                                  min          max        range         mean  \\\n",
       "balance                           0.0  19043.13856  19043.13856  1564.474828   \n",
       "balance_frequency                 0.0      1.00000      1.00000     0.877271   \n",
       "purchases                         0.0  49039.57000  49039.57000  1003.204834   \n",
       "oneoff_purchases                  0.0  40761.25000  40761.25000   592.437371   \n",
       "installments_purchases            0.0  22500.00000  22500.00000   411.067645   \n",
       "cash_advance                      0.0  47137.21176  47137.21176   978.871112   \n",
       "purchases_frequency               0.0      1.00000      1.00000     0.490351   \n",
       "oneoff_purchases_frequency        0.0      1.00000      1.00000     0.202458   \n",
       "purchases_installments_frequency  0.0      1.00000      1.00000     0.364437   \n",
       "cash_advance_frequency            0.0      1.50000      1.50000     0.135144   \n",
       "cash_advance_trx                  0.0    123.00000    123.00000     3.248827   \n",
       "purchases_trx                     0.0    358.00000    358.00000    14.709832   \n",
       "credit_limit                      0.0  30000.00000  30000.00000  4493.947277   \n",
       "payments                          0.0  50721.48336  50721.48336  1733.143852   \n",
       "minimum_payments                  0.0  76406.20752  76406.20752   833.983453   \n",
       "prc_full_payment                  0.0      1.00000      1.00000     0.153715   \n",
       "tenure                            6.0     12.00000      6.00000    11.517318   \n",
       "\n",
       "                                       median          std       skew  \\\n",
       "balance                            873.385231  2081.531879   2.393386   \n",
       "balance_frequency                    1.000000     0.236904  -2.023266   \n",
       "purchases                          361.280000  2136.634782   8.144269   \n",
       "oneoff_purchases                    38.000000  1659.887917  10.045083   \n",
       "installments_purchases              89.000000   904.338115   7.299120   \n",
       "cash_advance                         0.000000  2097.163877   5.166609   \n",
       "purchases_frequency                  0.500000     0.401371   0.060164   \n",
       "oneoff_purchases_frequency           0.083333     0.298336   1.535613   \n",
       "purchases_installments_frequency     0.166667     0.397448   0.509201   \n",
       "cash_advance_frequency               0.000000     0.200121   1.828686   \n",
       "cash_advance_trx                     0.000000     6.824647   5.721298   \n",
       "purchases_trx                        7.000000    24.857649   4.630655   \n",
       "credit_limit                      3000.000000  3638.922543   1.522363   \n",
       "payments                           856.901546  2895.063757   5.907620   \n",
       "minimum_payments                   289.628402  2335.989918  13.808430   \n",
       "prc_full_payment                     0.000000     0.292499   1.942820   \n",
       "tenure                              12.000000     1.338331  -2.943017   \n",
       "\n",
       "                                    kurtosis  \n",
       "balance                             7.674751  \n",
       "balance_frequency                   3.092370  \n",
       "purchases                         111.388771  \n",
       "oneoff_purchases                  164.187572  \n",
       "installments_purchases             96.575178  \n",
       "cash_advance                       52.899434  \n",
       "purchases_frequency                -1.638631  \n",
       "oneoff_purchases_frequency          1.161846  \n",
       "purchases_installments_frequency   -1.398632  \n",
       "cash_advance_frequency              3.334734  \n",
       "cash_advance_trx                   61.646862  \n",
       "purchases_trx                      34.793100  \n",
       "credit_limit                        2.836419  \n",
       "payments                           54.770736  \n",
       "minimum_payments                  292.357730  \n",
       "prc_full_payment                    2.432395  \n",
       "tenure                              7.694823  "
      ]
     },
     "execution_count": 11,
     "metadata": {},
     "output_type": "execute_result"
    }
   ],
   "source": [
    "# medidas de tendência central - media, mediana e desvio padrão\n",
    "mean = pd.DataFrame(num_attributes.mean()).T\n",
    "median = pd.DataFrame(num_attributes.median()).T\n",
    "std = pd.DataFrame(num_attributes.std()).T\n",
    "\n",
    "# medidas de dispersão - min, max, range, skew e kurtosis\n",
    "_min = pd.DataFrame(num_attributes.min()).T\n",
    "_max = pd.DataFrame(num_attributes.max()).T\n",
    "_range = pd.DataFrame(num_attributes.apply(lambda x: x.max() - x.min())).T\n",
    "skew = pd.DataFrame(num_attributes.apply(lambda x: x.skew())).T\n",
    "kurtosis = pd.DataFrame(num_attributes.apply(lambda x: x.kurtosis())).T\n",
    "\n",
    "# merge dataframe\n",
    "m = pd.concat([_min, _max, _range, mean, median, std, skew, kurtosis]).T\n",
    "m.columns = ['min', 'max', 'range', 'mean', 'median', 'std', 'skew', 'kurtosis']\n",
    "m"
   ]
  },
  {
   "cell_type": "markdown",
   "id": "6d15d707-bbd4-47ef-b381-b9762314a291",
   "metadata": {
    "tags": []
   },
   "source": [
    "# 2.0 Filtragem de Linhas e Colunas"
   ]
  },
  {
   "cell_type": "code",
   "execution_count": 12,
   "id": "bcfa2a8f-bf8d-471f-a8cd-e328df53271a",
   "metadata": {
    "tags": []
   },
   "outputs": [],
   "source": [
    "df2 = df1.copy()"
   ]
  },
  {
   "cell_type": "markdown",
   "id": "26a18cb1-300d-4590-838a-4f6c7957039f",
   "metadata": {
    "tags": []
   },
   "source": [
    "# 2.0 Feature Engineering"
   ]
  },
  {
   "cell_type": "code",
   "execution_count": 13,
   "id": "14bd9a6e-874c-4bc7-82b2-ecac345a9450",
   "metadata": {
    "tags": []
   },
   "outputs": [],
   "source": [
    "df3 = df2.copy()"
   ]
  },
  {
   "cell_type": "code",
   "execution_count": 14,
   "id": "8418a866-2dda-4658-9973-4898656b6bdb",
   "metadata": {},
   "outputs": [],
   "source": [
    "# pagamento a vista ou não\n",
    "df3['one_payment'] = df3['oneoff_purchases'].apply(lambda x: 0 if x == 0 else 1)\n",
    "\n",
    "# Gasto médio por transação de compra\n",
    "df3['avg_ticket_purchases'] = df3['purchases'] / df3['purchases_trx']\n",
    "\n",
    "# Gasto médio por transação de compras totais\n",
    "df3['avg_ticket_expenses'] = (df3['purchases'] + df3['cash_advance']) / (df3['purchases_trx'] + df3['cash_advance_trx'])\n",
    "\n",
    "# Soma das despesas / soma dos pagamentos\n",
    "df3['debt_rate'] = (df3['purchases'] + df3['cash_advance']) / (df3['payments'] + df3['minimum_payments'])\n",
    "\n",
    "# percentual gasto do limite do cartao\n",
    "df3['credit_limit_rate'] = df3['purchases'] + df3['cash_advance'] / (6 * df3['credit_limit'])"
   ]
  },
  {
   "cell_type": "code",
   "execution_count": 38,
   "id": "4e6411b0-e5f3-4862-90f1-2e8f7bce3b28",
   "metadata": {
    "tags": []
   },
   "outputs": [],
   "source": [
    "# substituindo os NAs da feature avg_ticket_purchases\n",
    "df3.loc[df3['avg_ticket_purchases'].isna(), 'avg_ticket_purchases'] = 0\n",
    "\n",
    "# substituindo os NAs da feature avg_ticket_expenses\n",
    "df3.loc[df3['avg_ticket_expenses'].isna(), 'avg_ticket_expenses'] = 0"
   ]
  },
  {
   "cell_type": "code",
   "execution_count": 102,
   "id": "e267273f-8e84-492f-b5cb-4a2a8c71a6aa",
   "metadata": {
    "tags": []
   },
   "outputs": [],
   "source": [
    "# substituindo o valor 'inf' pelo valor máximo do avg_ticket_purchases\n",
    "df3.loc[df3['avg_ticket_purchases'] == np.inf, 'avg_ticket_purchases'] = df3.loc[df3['avg_ticket_purchases'] != np.inf, 'avg_ticket_purchases'].max()\n",
    "\n",
    "# substituindo o valor 'inf' pelo valor máximo do avg_ticket_expenses\n",
    "df3.loc[df3['avg_ticket_expenses'] == np.inf, 'avg_ticket_expenses'] = df3.loc[df3['avg_ticket_expenses'] != np.inf, 'avg_ticket_expenses'].max()\n",
    "\n",
    "# substituindo o valor 'inf' pelo valor máximo do debt_rate\n",
    "df3.loc[df3['debt_rate'] == np.inf, 'debt_rate'] = df3.loc[df3['debt_rate'] != np.inf, 'debt_rate'].max()\n",
    "\n",
    "# substituindo o valor 'inf' pelo valor máximo do credit_limit_rate\n",
    "df3.loc[df3['credit_limit_rate'] == np.inf, 'credit_limit_rate'] = df3.loc[df3['credit_limit_rate'] != np.inf, 'credit_limit_rate'].max()"
   ]
  },
  {
   "cell_type": "markdown",
   "id": "3977e2b1-dcdd-4dce-92db-6e5001659d22",
   "metadata": {
    "tags": []
   },
   "source": [
    "# 4.0 EDA"
   ]
  },
  {
   "cell_type": "code",
   "execution_count": 103,
   "id": "deeee20d-e8f4-4909-bf8d-59f7d1205f81",
   "metadata": {
    "tags": []
   },
   "outputs": [],
   "source": [
    "df4 = df3.copy()"
   ]
  },
  {
   "cell_type": "markdown",
   "id": "a63717bb-9836-4527-8693-85bf8a22ecb5",
   "metadata": {
    "tags": []
   },
   "source": [
    "## 4.1 Univariate Analysis"
   ]
  },
  {
   "cell_type": "markdown",
   "id": "8e197837-6b62-4357-b93e-ea85a28a68b1",
   "metadata": {},
   "source": [
    "# 5.0 Data Preparation"
   ]
  },
  {
   "cell_type": "code",
   "execution_count": 118,
   "id": "7c922c41-6002-49a3-b814-c1bcfc519c7d",
   "metadata": {
    "tags": []
   },
   "outputs": [],
   "source": [
    "df5 = df4.copy()"
   ]
  },
  {
   "cell_type": "code",
   "execution_count": 119,
   "id": "39357d85-9042-435c-b414-d5cbffa6c139",
   "metadata": {
    "tags": []
   },
   "outputs": [],
   "source": [
    "from sklearn.preprocessing import MinMaxScaler"
   ]
  },
  {
   "cell_type": "code",
   "execution_count": 120,
   "id": "d215e020-afd2-4574-ac6b-6b1d8979c1ca",
   "metadata": {
    "tags": []
   },
   "outputs": [],
   "source": [
    "mms = MinMaxScaler()\n",
    "\n",
    "# transform to variables\n",
    "df5['balance'] = mms.fit_transform(df5[['balance']])\n",
    "df5['purchases'] = mms.fit_transform(df5[['purchases']])\n",
    "df5['oneoff_purchases'] = mms.fit_transform(df5[['oneoff_purchases']])\n",
    "df5['installments_purchases'] = mms.fit_transform(df5[['installments_purchases']])\n",
    "df5['cash_advance_trx'] = mms.fit_transform(df5[['cash_advance_trx']])\n",
    "df5['cash_advance'] = mms.fit_transform(df5[['cash_advance']])\n",
    "df5['purchases_trx'] = mms.fit_transform(df5[['purchases_trx']])\n",
    "df5['credit_limit'] = mms.fit_transform(df5[['credit_limit']])\n",
    "df5['payments'] = mms.fit_transform(df5[['payments']])\n",
    "df5['minimum_payments'] = mms.fit_transform(df5[['minimum_payments']])\n",
    "df5['prc_full_payment'] = mms.fit_transform(df5[['prc_full_payment']])\n",
    "df5['tenure'] = mms.fit_transform(df5[['tenure']])\n",
    "df5['one_payment'] = mms.fit_transform(df5[['one_payment']])\n",
    "df5['avg_ticket_purchases'] = mms.fit_transform(df5[['avg_ticket_purchases']])\n",
    "df5['debt_rate'] = mms.fit_transform(df5[['debt_rate']])\n",
    "df5['credit_limit_rate'] = mms.fit_transform(df5[['credit_limit_rate']])\n",
    "df5['avg_ticket_expenses'] = mms.fit_transform(df5[['avg_ticket_expenses']])\n"
   ]
  },
  {
   "cell_type": "code",
   "execution_count": 122,
   "id": "00c89e48-b638-4632-bbbc-6a1a739fccda",
   "metadata": {
    "tags": []
   },
   "outputs": [
    {
     "data": {
      "text/html": [
       "<div>\n",
       "<style scoped>\n",
       "    .dataframe tbody tr th:only-of-type {\n",
       "        vertical-align: middle;\n",
       "    }\n",
       "\n",
       "    .dataframe tbody tr th {\n",
       "        vertical-align: top;\n",
       "    }\n",
       "\n",
       "    .dataframe thead th {\n",
       "        text-align: right;\n",
       "    }\n",
       "</style>\n",
       "<table border=\"1\" class=\"dataframe\">\n",
       "  <thead>\n",
       "    <tr style=\"text-align: right;\">\n",
       "      <th></th>\n",
       "      <th>cust_id</th>\n",
       "      <th>balance</th>\n",
       "      <th>balance_frequency</th>\n",
       "      <th>purchases</th>\n",
       "      <th>oneoff_purchases</th>\n",
       "      <th>installments_purchases</th>\n",
       "      <th>cash_advance</th>\n",
       "      <th>purchases_frequency</th>\n",
       "      <th>oneoff_purchases_frequency</th>\n",
       "      <th>purchases_installments_frequency</th>\n",
       "      <th>...</th>\n",
       "      <th>credit_limit</th>\n",
       "      <th>payments</th>\n",
       "      <th>minimum_payments</th>\n",
       "      <th>prc_full_payment</th>\n",
       "      <th>tenure</th>\n",
       "      <th>one_payment</th>\n",
       "      <th>avg_ticket_purchases</th>\n",
       "      <th>avg_ticket_expenses</th>\n",
       "      <th>debt_rate</th>\n",
       "      <th>credit_limit_rate</th>\n",
       "    </tr>\n",
       "  </thead>\n",
       "  <tbody>\n",
       "    <tr>\n",
       "      <th>0</th>\n",
       "      <td>C10001</td>\n",
       "      <td>0.002148</td>\n",
       "      <td>0.818182</td>\n",
       "      <td>0.001945</td>\n",
       "      <td>0.000000</td>\n",
       "      <td>0.00424</td>\n",
       "      <td>0.000000</td>\n",
       "      <td>0.166667</td>\n",
       "      <td>0.000000</td>\n",
       "      <td>0.083333</td>\n",
       "      <td>...</td>\n",
       "      <td>0.033333</td>\n",
       "      <td>0.003979</td>\n",
       "      <td>0.001826</td>\n",
       "      <td>0.000000</td>\n",
       "      <td>1.0</td>\n",
       "      <td>0.0</td>\n",
       "      <td>0.007974</td>\n",
       "      <td>0.004504</td>\n",
       "      <td>0.000305</td>\n",
       "      <td>0.001945</td>\n",
       "    </tr>\n",
       "    <tr>\n",
       "      <th>1</th>\n",
       "      <td>C10002</td>\n",
       "      <td>0.168169</td>\n",
       "      <td>0.909091</td>\n",
       "      <td>0.000000</td>\n",
       "      <td>0.000000</td>\n",
       "      <td>0.00000</td>\n",
       "      <td>0.136685</td>\n",
       "      <td>0.000000</td>\n",
       "      <td>0.000000</td>\n",
       "      <td>0.000000</td>\n",
       "      <td>...</td>\n",
       "      <td>0.233333</td>\n",
       "      <td>0.080893</td>\n",
       "      <td>0.014035</td>\n",
       "      <td>0.222222</td>\n",
       "      <td>1.0</td>\n",
       "      <td>0.0</td>\n",
       "      <td>0.000000</td>\n",
       "      <td>0.152094</td>\n",
       "      <td>0.001358</td>\n",
       "      <td>0.000003</td>\n",
       "    </tr>\n",
       "    <tr>\n",
       "      <th>2</th>\n",
       "      <td>C10003</td>\n",
       "      <td>0.131026</td>\n",
       "      <td>1.000000</td>\n",
       "      <td>0.015766</td>\n",
       "      <td>0.018968</td>\n",
       "      <td>0.00000</td>\n",
       "      <td>0.000000</td>\n",
       "      <td>1.000000</td>\n",
       "      <td>1.000000</td>\n",
       "      <td>0.000000</td>\n",
       "      <td>...</td>\n",
       "      <td>0.250000</td>\n",
       "      <td>0.012264</td>\n",
       "      <td>0.008210</td>\n",
       "      <td>0.000000</td>\n",
       "      <td>1.0</td>\n",
       "      <td>1.0</td>\n",
       "      <td>0.010771</td>\n",
       "      <td>0.006084</td>\n",
       "      <td>0.000675</td>\n",
       "      <td>0.015766</td>\n",
       "    </tr>\n",
       "    <tr>\n",
       "      <th>3</th>\n",
       "      <td>C10004</td>\n",
       "      <td>0.087521</td>\n",
       "      <td>0.636364</td>\n",
       "      <td>0.030567</td>\n",
       "      <td>0.036775</td>\n",
       "      <td>0.00000</td>\n",
       "      <td>0.004366</td>\n",
       "      <td>0.083333</td>\n",
       "      <td>0.083333</td>\n",
       "      <td>0.000000</td>\n",
       "      <td>...</td>\n",
       "      <td>0.250000</td>\n",
       "      <td>0.000000</td>\n",
       "      <td>0.000000</td>\n",
       "      <td>0.000000</td>\n",
       "      <td>1.0</td>\n",
       "      <td>1.0</td>\n",
       "      <td>0.250599</td>\n",
       "      <td>0.080487</td>\n",
       "      <td>1.000000</td>\n",
       "      <td>0.030567</td>\n",
       "    </tr>\n",
       "    <tr>\n",
       "      <th>4</th>\n",
       "      <td>C10005</td>\n",
       "      <td>0.042940</td>\n",
       "      <td>1.000000</td>\n",
       "      <td>0.000326</td>\n",
       "      <td>0.000393</td>\n",
       "      <td>0.00000</td>\n",
       "      <td>0.000000</td>\n",
       "      <td>0.083333</td>\n",
       "      <td>0.083333</td>\n",
       "      <td>0.000000</td>\n",
       "      <td>...</td>\n",
       "      <td>0.040000</td>\n",
       "      <td>0.013374</td>\n",
       "      <td>0.003204</td>\n",
       "      <td>0.000000</td>\n",
       "      <td>1.0</td>\n",
       "      <td>1.0</td>\n",
       "      <td>0.002675</td>\n",
       "      <td>0.001511</td>\n",
       "      <td>0.000019</td>\n",
       "      <td>0.000326</td>\n",
       "    </tr>\n",
       "  </tbody>\n",
       "</table>\n",
       "<p>5 rows × 23 columns</p>\n",
       "</div>"
      ],
      "text/plain": [
       "  cust_id   balance  balance_frequency  purchases  oneoff_purchases  \\\n",
       "0  C10001  0.002148           0.818182   0.001945          0.000000   \n",
       "1  C10002  0.168169           0.909091   0.000000          0.000000   \n",
       "2  C10003  0.131026           1.000000   0.015766          0.018968   \n",
       "3  C10004  0.087521           0.636364   0.030567          0.036775   \n",
       "4  C10005  0.042940           1.000000   0.000326          0.000393   \n",
       "\n",
       "   installments_purchases  cash_advance  purchases_frequency  \\\n",
       "0                 0.00424      0.000000             0.166667   \n",
       "1                 0.00000      0.136685             0.000000   \n",
       "2                 0.00000      0.000000             1.000000   \n",
       "3                 0.00000      0.004366             0.083333   \n",
       "4                 0.00000      0.000000             0.083333   \n",
       "\n",
       "   oneoff_purchases_frequency  purchases_installments_frequency  ...  \\\n",
       "0                    0.000000                          0.083333  ...   \n",
       "1                    0.000000                          0.000000  ...   \n",
       "2                    1.000000                          0.000000  ...   \n",
       "3                    0.083333                          0.000000  ...   \n",
       "4                    0.083333                          0.000000  ...   \n",
       "\n",
       "   credit_limit  payments  minimum_payments  prc_full_payment  tenure  \\\n",
       "0      0.033333  0.003979          0.001826          0.000000     1.0   \n",
       "1      0.233333  0.080893          0.014035          0.222222     1.0   \n",
       "2      0.250000  0.012264          0.008210          0.000000     1.0   \n",
       "3      0.250000  0.000000          0.000000          0.000000     1.0   \n",
       "4      0.040000  0.013374          0.003204          0.000000     1.0   \n",
       "\n",
       "   one_payment  avg_ticket_purchases  avg_ticket_expenses  debt_rate  \\\n",
       "0          0.0              0.007974             0.004504   0.000305   \n",
       "1          0.0              0.000000             0.152094   0.001358   \n",
       "2          1.0              0.010771             0.006084   0.000675   \n",
       "3          1.0              0.250599             0.080487   1.000000   \n",
       "4          1.0              0.002675             0.001511   0.000019   \n",
       "\n",
       "   credit_limit_rate  \n",
       "0           0.001945  \n",
       "1           0.000003  \n",
       "2           0.015766  \n",
       "3           0.030567  \n",
       "4           0.000326  \n",
       "\n",
       "[5 rows x 23 columns]"
      ]
     },
     "execution_count": 122,
     "metadata": {},
     "output_type": "execute_result"
    }
   ],
   "source": [
    "df5.head()"
   ]
  },
  {
   "cell_type": "markdown",
   "id": "2831bb04-966b-48f9-9987-babf78c197fa",
   "metadata": {
    "tags": []
   },
   "source": [
    "# 6.0 Feature Selection"
   ]
  },
  {
   "cell_type": "code",
   "execution_count": 123,
   "id": "476ab107-f13e-43c5-b4be-c4028b8c6223",
   "metadata": {
    "tags": []
   },
   "outputs": [],
   "source": [
    "df6 = df5.copy()"
   ]
  },
  {
   "cell_type": "markdown",
   "id": "0e1e85fb-9bee-4703-9c08-cef727ab74c6",
   "metadata": {
    "tags": []
   },
   "source": [
    "# 7.0 Hyperparameter Fine Tunning"
   ]
  },
  {
   "cell_type": "code",
   "execution_count": 124,
   "id": "8d094c60-06ab-4cfb-8aba-47f76c6ecf82",
   "metadata": {
    "tags": []
   },
   "outputs": [],
   "source": [
    "X = df6.drop(columns=['cust_id'])\n",
    "X.dropna(inplace=True)"
   ]
  },
  {
   "cell_type": "markdown",
   "id": "d6854317-c154-4f0e-bfc0-cdbf002be093",
   "metadata": {},
   "source": [
    "## 7.1 Metodo Elbow"
   ]
  },
  {
   "cell_type": "code",
   "execution_count": 125,
   "id": "11a3d9d8-4105-46bc-b182-13bbfc1635f8",
   "metadata": {
    "tags": []
   },
   "outputs": [],
   "source": [
    "silhouette_score = []\n",
    "\n",
    "for k in range(2, 10):\n",
    "    # model definition\n",
    "    km = KMeans(n_clusters=k, n_init=10, max_iter=300, random_state=42)\n",
    "\n",
    "    # model traning\n",
    "    km.fit(X)\n",
    "    \n",
    "    # model predict\n",
    "    labels = km.predict(X)\n",
    "    \n",
    "    # get variance\n",
    "    silhouette_score.append(metrics.silhouette_score(X, labels))"
   ]
  },
  {
   "cell_type": "code",
   "execution_count": 126,
   "id": "27204928-dafc-487a-93fd-1139943fcaae",
   "metadata": {
    "tags": []
   },
   "outputs": [
    {
     "data": {
      "text/plain": [
       "Text(0, 0.5, 'K')"
      ]
     },
     "execution_count": 126,
     "metadata": {},
     "output_type": "execute_result"
    },
    {
     "data": {
      "image/png": "[encoded data removed]",
      "text/plain": [
       "<Figure size 640x480 with 1 Axes>"
      ]
     },
     "metadata": {},
     "output_type": "display_data"
    }
   ],
   "source": [
    "plt.plot(range(2, 10), silhouette_score)\n",
    "plt.title('K x silhouette_score')\n",
    "plt.xlabel('silhouette_score')\n",
    "plt.ylabel('K')"
   ]
  },
  {
   "cell_type": "markdown",
   "id": "e63902aa-56a9-49c1-a4d5-eae8f4b6bae2",
   "metadata": {
    "tags": []
   },
   "source": [
    "# 8.0 Model Machine Learning"
   ]
  },
  {
   "cell_type": "code",
   "execution_count": null,
   "id": "8db4fa3b-f9ea-4413-84a1-46d07a3cea7e",
   "metadata": {},
   "outputs": [],
   "source": []
  },
  {
   "cell_type": "markdown",
   "id": "9d7a7c3f-98e6-4ec5-82f0-c05b927cc204",
   "metadata": {
    "tags": []
   },
   "source": [
    "# 9.0 Cluster Analysis"
   ]
  },
  {
   "cell_type": "code",
   "execution_count": null,
   "id": "822db6bc-483f-43e3-9f34-e2eb0948d949",
   "metadata": {},
   "outputs": [],
   "source": []
  }
 ],
 "metadata": {
  "kernelspec": {
   "display_name": "Python 3 (ipykernel)",
   "language": "python",
   "name": "python3"
  },
  "language_info": {
   "codemirror_mode": {
    "name": "ipython",
    "version": 3
   },
   "file_extension": ".py",
   "mimetype": "text/x-python",
   "name": "python",
   "nbconvert_exporter": "python",
   "pygments_lexer": "ipython3",
   "version": "3.10.4"
  }
 },
 "nbformat": 4,
 "nbformat_minor": 5
}
