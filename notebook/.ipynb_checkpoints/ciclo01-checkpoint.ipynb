{
 "cells": [
  {
   "cell_type": "markdown",
   "id": "18727d0c-d078-43aa-9192-667924a0ea34",
   "metadata": {
    "jp-MarkdownHeadingCollapsed": true,
    "tags": []
   },
   "source": [
    "# Case Study"
   ]
  },
  {
   "cell_type": "markdown",
   "id": "58cbcfad-f17a-4a44-9767-b897f1934f04",
   "metadata": {
    "jp-MarkdownHeadingCollapsed": true,
    "tags": []
   },
   "source": [
    "## Descrição & Objetivos"
   ]
  },
  {
   "cell_type": "markdown",
   "id": "b01199bc-c1b8-4f57-8e2d-fab625e5c269",
   "metadata": {},
   "source": [
    "\n",
    "Este caso requer o desenvolvimento de uma segmentação de clientes para definir a estratégia de marketing. O\n",
    "O conjunto de dados de amostra resume o comportamento de uso de cerca de 9.000 titulares de cartão de crédito ativos durante os últimos 6 meses. O arquivo está no nível do cliente com 18 variáveis ​​comportamentais.\n",
    "\n",
    "Para cada segmento, eu devo sugerir de duas a três alavancas de resultados"
   ]
  },
  {
   "cell_type": "markdown",
   "id": "7eeef26f-7df7-456f-bd51-c819c9cdc88b",
   "metadata": {
    "tags": []
   },
   "source": [
    "## Variaveis"
   ]
  },
  {
   "cell_type": "markdown",
   "id": "cf129216-1f98-4182-a9f7-453fd9162215",
   "metadata": {},
   "source": [
    "- cust_id = identificador do cliente\n",
    "- balance = valor na conta para realizar compras\n",
    "- balance_frenquecy = mostra a frequencia que o valor na conta é atualizado para fazer compras, esse valor varia de 0 a 1, sendo 1 muito frequente e 0 pouco frequente\n",
    "- purchase = quantidade de compras feitas\n",
    "- oneoff_purchase = o valor máximo feito em uma compra\n",
    "- installments_purchases = valor das compras parceladas\n",
    "- cash_advance = valor de saque de dinheiro utilizando o cartão de crédito\n",
    "- purchase_frequency = mostra a frequencia que as compras são feitas, esse valor varia de 0 a 1, sendo 1 muito frequente e 0 pouco frequente\n",
    "- oneoffpurchasefrequency= Com que frequência as compras acontecem de uma só vez (1 = comprado com frequência, 0 = não comprado com frequência)\n",
    "- purchasesinstallmentsfrequency = Com que frequência as compras parceladas estão sendo feitas (1 = frequentemente feito, 0 = não feito com frequência)\n",
    "- CASHADVANCEFREQUENCY = Com que frequência o dinheiro adiantado está sendo pago\n",
    "- CASHADVANCETRX = Número de transações feitas com \"Cash in Advanced\"\n",
    "- PURCHASES_TRX = Número de transações de compra feitas\n",
    "- CREDIT_LIMIT = Limite de cartão de crédito para usuário\n",
    "- PAGAMENTOS = Valor do pagamento feito pelo usuário\n",
    "- MINIMUM_PAYMENTS = valor mínimo de pagamentos feitos pelo usuário\n",
    "- PRCFULLPAYMENT = Porcentagem do pagamento integral pago pelo usuário\n",
    "- ternure = Posse do serviço de cartão de crédito para o usuário\n"
   ]
  },
  {
   "cell_type": "markdown",
   "id": "3796988c-57ca-4d15-9897-ac872e44fe2e",
   "metadata": {
    "tags": []
   },
   "source": [
    "## Plano de Ação"
   ]
  },
  {
   "cell_type": "markdown",
   "id": "cb95b8d9-b55d-4486-b983-a465b78b7de7",
   "metadata": {},
   "source": [
    "**Sprint #0**\n",
    "- Fazer o planejamento da solução (ok)\n",
    "- Fazer o notebook end to end\n",
    "\n",
    "**Sprint #1**\n",
    "- Fazer a passo 01 - Data Description\n",
    "    - Tratar os NAs das colunas: **minimum_payments** e **credit_limits**\n",
    "- Fazer o passo 02 - Filtragem de Linhas e Colunas\n",
    "- Fazer o passo 03 - Feature Engeneering\n",
    "- Fazer o passo 04 - EDA (estudo de espaço)\n",
    "\n",
    "**Sprint #2**\n",
    "- Fazer a passo 05 - Data Preparation\n",
    "- Fazer o passo 06 - Feature Selection\n",
    "- Fazer o passo 07 - Hyperparameter Fine Tunning\n",
    "- Fazer o passo 08 - Model Training\n",
    "\n",
    "**Sprint #3**\n",
    "- Fazer a passo 09 - Cluster Analysis\n",
    "- Fazer o passo 10 - Model Production\n",
    "- Fazer o dashboard"
   ]
  },
  {
   "cell_type": "markdown",
   "id": "6ee26e00-9f73-413f-a11b-15fabf441453",
   "metadata": {
    "jp-MarkdownHeadingCollapsed": true,
    "tags": []
   },
   "source": [
    "# 0.0 Imports"
   ]
  },
  {
   "cell_type": "code",
   "execution_count": 39,
   "id": "d1583d11-8da8-4abe-98e7-7cdb71af4533",
   "metadata": {},
   "outputs": [],
   "source": [
    "import inflection\n",
    "\n",
    "import pandas as pd\n",
    "import numpy  as np\n",
    "\n",
    "import matplotlib.pyplot as plt\n",
    "\n",
    "from sklearn.cluster import KMeans"
   ]
  },
  {
   "cell_type": "markdown",
   "id": "79ea0851-caeb-4527-83b8-b5f418e21547",
   "metadata": {},
   "source": [
    "## 0.1 Helper Functions"
   ]
  },
  {
   "cell_type": "code",
   "execution_count": null,
   "id": "fbf96406-16be-498f-9f4d-d9210f2c31fe",
   "metadata": {},
   "outputs": [],
   "source": []
  },
  {
   "cell_type": "markdown",
   "id": "89b2bef3-83c6-41f7-a714-1a981189d561",
   "metadata": {},
   "source": [
    "## 0.2 Loading dataset"
   ]
  },
  {
   "cell_type": "code",
   "execution_count": 12,
   "id": "dcf9cbe9-dfaa-4524-9dba-3bcc52e21822",
   "metadata": {
    "tags": []
   },
   "outputs": [],
   "source": [
    "df_raw = pd.read_csv('../dados/data.csv')"
   ]
  },
  {
   "cell_type": "markdown",
   "id": "e91130d9-abeb-405e-a285-f5c73e2f5893",
   "metadata": {
    "jp-MarkdownHeadingCollapsed": true,
    "tags": []
   },
   "source": [
    "# 1.0 Descrição dos Dados"
   ]
  },
  {
   "cell_type": "code",
   "execution_count": 13,
   "id": "3910f7e0-31d6-4297-b968-9f136d47d161",
   "metadata": {
    "tags": []
   },
   "outputs": [],
   "source": [
    "df1 = df_raw.copy()"
   ]
  },
  {
   "cell_type": "markdown",
   "id": "a903af50-a68c-4040-8342-f366e2062c42",
   "metadata": {
    "tags": []
   },
   "source": [
    "## 1.1 Rename Columns"
   ]
  },
  {
   "cell_type": "code",
   "execution_count": 14,
   "id": "9a1b98d0-c5fe-4f94-91ee-f0725127eed0",
   "metadata": {
    "tags": []
   },
   "outputs": [],
   "source": [
    "df1.columns = [inflection.underscore(col) for col in df1.columns]"
   ]
  },
  {
   "cell_type": "markdown",
   "id": "df489b36-d758-4ba6-b349-7575c6ed25bb",
   "metadata": {},
   "source": [
    "## 1.2 Data Dimensions"
   ]
  },
  {
   "cell_type": "code",
   "execution_count": 15,
   "id": "5b3e9e09-8cb2-4f56-87e8-a8760e91ba5c",
   "metadata": {
    "tags": []
   },
   "outputs": [
    {
     "name": "stdout",
     "output_type": "stream",
     "text": [
      "Number of Rows: 8950\n",
      "Number of Cols: 18\n"
     ]
    }
   ],
   "source": [
    "print('Number of Rows: {}'.format(df1.shape[0]))\n",
    "print('Number of Cols: {}'.format(df1.shape[1]))"
   ]
  },
  {
   "cell_type": "markdown",
   "id": "d4a9f6d5-1417-491b-99eb-ef0ea3c6c533",
   "metadata": {},
   "source": [
    "## 1.3 Check DTypes"
   ]
  },
  {
   "cell_type": "code",
   "execution_count": 16,
   "id": "60ae2b23-d367-4836-bff6-67ec4034c806",
   "metadata": {
    "tags": []
   },
   "outputs": [
    {
     "data": {
      "text/plain": [
       "cust_id                              object\n",
       "balance                             float64\n",
       "balance_frequency                   float64\n",
       "purchases                           float64\n",
       "oneoff_purchases                    float64\n",
       "installments_purchases              float64\n",
       "cash_advance                        float64\n",
       "purchases_frequency                 float64\n",
       "oneoff_purchases_frequency          float64\n",
       "purchases_installments_frequency    float64\n",
       "cash_advance_frequency              float64\n",
       "cash_advance_trx                      int64\n",
       "purchases_trx                         int64\n",
       "credit_limit                        float64\n",
       "payments                            float64\n",
       "minimum_payments                    float64\n",
       "prc_full_payment                    float64\n",
       "tenure                                int64\n",
       "dtype: object"
      ]
     },
     "execution_count": 16,
     "metadata": {},
     "output_type": "execute_result"
    }
   ],
   "source": [
    "df1.dtypes"
   ]
  },
  {
   "cell_type": "markdown",
   "id": "37b24efb-c1b4-49e3-95b3-a9d4791fe32a",
   "metadata": {},
   "source": [
    "## 1.4 Check NAs"
   ]
  },
  {
   "cell_type": "code",
   "execution_count": 17,
   "id": "e8be3d81-36a6-45fd-8a92-46cb72f3defc",
   "metadata": {
    "tags": []
   },
   "outputs": [
    {
     "data": {
      "text/plain": [
       "cust_id                               0\n",
       "balance                               0\n",
       "balance_frequency                     0\n",
       "purchases                             0\n",
       "oneoff_purchases                      0\n",
       "installments_purchases                0\n",
       "cash_advance                          0\n",
       "purchases_frequency                   0\n",
       "oneoff_purchases_frequency            0\n",
       "purchases_installments_frequency      0\n",
       "cash_advance_frequency                0\n",
       "cash_advance_trx                      0\n",
       "purchases_trx                         0\n",
       "credit_limit                          1\n",
       "payments                              0\n",
       "minimum_payments                    313\n",
       "prc_full_payment                      0\n",
       "tenure                                0\n",
       "dtype: int64"
      ]
     },
     "execution_count": 17,
     "metadata": {},
     "output_type": "execute_result"
    }
   ],
   "source": [
    "df1.isna().sum()"
   ]
  },
  {
   "cell_type": "markdown",
   "id": "3be8441e-9d0a-4bfb-b803-2c244ab1d421",
   "metadata": {},
   "source": [
    "## 1.5 Fillout NAs"
   ]
  },
  {
   "cell_type": "code",
   "execution_count": 21,
   "id": "8e789006-3a8b-484d-a7ca-dddba2a02f2d",
   "metadata": {
    "tags": []
   },
   "outputs": [],
   "source": [
    "df1 = df1.dropna()"
   ]
  },
  {
   "cell_type": "markdown",
   "id": "2bc02f88-6f88-476f-a8b4-e2e735d6fade",
   "metadata": {},
   "source": [
    "## 1.6 Change DTypes"
   ]
  },
  {
   "cell_type": "code",
   "execution_count": null,
   "id": "5db49c95-99a4-4d8d-be1e-2c935d49da82",
   "metadata": {},
   "outputs": [],
   "source": []
  },
  {
   "cell_type": "markdown",
   "id": "25aca186-3ce9-491b-a585-bcd50a8ac0ca",
   "metadata": {},
   "source": [
    "## 1.7 Descriptive Statistical"
   ]
  },
  {
   "cell_type": "code",
   "execution_count": null,
   "id": "44ba715c-a8e7-4a74-8547-6f7d5c90c737",
   "metadata": {},
   "outputs": [],
   "source": []
  },
  {
   "cell_type": "markdown",
   "id": "26a18cb1-300d-4590-838a-4f6c7957039f",
   "metadata": {},
   "source": [
    "# 2.0 Feature Engineering"
   ]
  },
  {
   "cell_type": "code",
   "execution_count": 22,
   "id": "14bd9a6e-874c-4bc7-82b2-ecac345a9450",
   "metadata": {
    "tags": []
   },
   "outputs": [],
   "source": [
    "df2 = df1.copy()"
   ]
  },
  {
   "cell_type": "markdown",
   "id": "6d15d707-bbd4-47ef-b381-b9762314a291",
   "metadata": {},
   "source": [
    "# 3.0 Filtragem de Linhas e Colunas"
   ]
  },
  {
   "cell_type": "code",
   "execution_count": 23,
   "id": "bcfa2a8f-bf8d-471f-a8cd-e328df53271a",
   "metadata": {
    "tags": []
   },
   "outputs": [],
   "source": [
    "df3 = df2.copy()"
   ]
  },
  {
   "cell_type": "markdown",
   "id": "3977e2b1-dcdd-4dce-92db-6e5001659d22",
   "metadata": {
    "tags": []
   },
   "source": [
    "# 4.0 EDA"
   ]
  },
  {
   "cell_type": "code",
   "execution_count": 26,
   "id": "deeee20d-e8f4-4909-bf8d-59f7d1205f81",
   "metadata": {
    "tags": []
   },
   "outputs": [],
   "source": [
    "df4 = df3.copy()"
   ]
  },
  {
   "cell_type": "markdown",
   "id": "8e197837-6b62-4357-b93e-ea85a28a68b1",
   "metadata": {},
   "source": [
    "# 5.0 Data Preparation"
   ]
  },
  {
   "cell_type": "code",
   "execution_count": 27,
   "id": "7c922c41-6002-49a3-b814-c1bcfc519c7d",
   "metadata": {
    "tags": []
   },
   "outputs": [],
   "source": [
    "df5 = df4.copy()"
   ]
  },
  {
   "cell_type": "markdown",
   "id": "2831bb04-966b-48f9-9987-babf78c197fa",
   "metadata": {},
   "source": [
    "# 6.0 Feature Selection"
   ]
  },
  {
   "cell_type": "code",
   "execution_count": 28,
   "id": "476ab107-f13e-43c5-b4be-c4028b8c6223",
   "metadata": {
    "tags": []
   },
   "outputs": [],
   "source": [
    "df6 = df5.copy()"
   ]
  },
  {
   "cell_type": "markdown",
   "id": "0e1e85fb-9bee-4703-9c08-cef727ab74c6",
   "metadata": {
    "tags": []
   },
   "source": [
    "# 7.0 Hyperparameter Fine Tunning"
   ]
  },
  {
   "cell_type": "code",
   "execution_count": 33,
   "id": "8d094c60-06ab-4cfb-8aba-47f76c6ecf82",
   "metadata": {
    "tags": []
   },
   "outputs": [],
   "source": [
    "X = df6.drop(columns=['cust_id'])"
   ]
  },
  {
   "cell_type": "markdown",
   "id": "d6854317-c154-4f0e-bfc0-cdbf002be093",
   "metadata": {},
   "source": [
    "## 7.1 Metodo Elbow"
   ]
  },
  {
   "cell_type": "code",
   "execution_count": 35,
   "id": "11a3d9d8-4105-46bc-b182-13bbfc1635f8",
   "metadata": {
    "tags": []
   },
   "outputs": [],
   "source": [
    "variance = []\n",
    "\n",
    "for k in range(2, 10):\n",
    "    # model definition\n",
    "    km = KMeans(n_clusters=k, n_init=10, max_iter=300, random_state=42)\n",
    "\n",
    "    # model traning\n",
    "    km.fit(X)\n",
    "\n",
    "    # get variance\n",
    "    variance.append(km.inertia_)"
   ]
  },
  {
   "cell_type": "code",
   "execution_count": 38,
   "id": "27204928-dafc-487a-93fd-1139943fcaae",
   "metadata": {
    "tags": []
   },
   "outputs": [
    {
     "data": {
      "text/plain": [
       "Text(0, 0.5, 'K')"
      ]
     },
     "execution_count": 38,
     "metadata": {},
     "output_type": "execute_result"
    },
    {
     "data": {
      "image/png": "[encoded data removed]",
      "text/plain": [
       "<Figure size 640x480 with 1 Axes>"
      ]
     },
     "metadata": {},
     "output_type": "display_data"
    }
   ],
   "source": [
    "plt.plot(range(2, 10), variance)\n",
    "plt.title('K x Variance')\n",
    "plt.xlabel('Variance')\n",
    "plt.ylabel('K')"
   ]
  },
  {
   "cell_type": "markdown",
   "id": "e63902aa-56a9-49c1-a4d5-eae8f4b6bae2",
   "metadata": {},
   "source": [
    "# 8.0 Model Machine Learning"
   ]
  },
  {
   "cell_type": "code",
   "execution_count": null,
   "id": "8db4fa3b-f9ea-4413-84a1-46d07a3cea7e",
   "metadata": {},
   "outputs": [],
   "source": []
  },
  {
   "cell_type": "markdown",
   "id": "9d7a7c3f-98e6-4ec5-82f0-c05b927cc204",
   "metadata": {},
   "source": [
    "# 9.0 Cluster Analysis"
   ]
  },
  {
   "cell_type": "code",
   "execution_count": null,
   "id": "822db6bc-483f-43e3-9f34-e2eb0948d949",
   "metadata": {},
   "outputs": [],
   "source": []
  },
  {
   "cell_type": "code",
   "execution_count": null,
   "id": "9f546c01-37ae-4549-98cf-7b457ce9e709",
   "metadata": {},
   "outputs": [],
   "source": []
  }
 ],
 "metadata": {
  "kernelspec": {
   "display_name": "Python 3 (ipykernel)",
   "language": "python",
   "name": "python3"
  },
  "language_info": {
   "codemirror_mode": {
    "name": "ipython",
    "version": 3
   },
   "file_extension": ".py",
   "mimetype": "text/x-python",
   "name": "python",
   "nbconvert_exporter": "python",
   "pygments_lexer": "ipython3",
   "version": "3.10.4"
  }
 },
 "nbformat": 4,
 "nbformat_minor": 5
}
